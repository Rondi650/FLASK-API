{
 "cells": [
  {
   "cell_type": "code",
   "execution_count": 21,
   "id": "335aaeae",
   "metadata": {},
   "outputs": [
    {
     "name": "stdout",
     "output_type": "stream",
     "text": [
      "6\n"
     ]
    }
   ],
   "source": [
    "# Defina uma função simples\n",
    "def soma(a, b, c):\n",
    "    return a + b + c\n",
    "\n",
    "# Lista de dados\n",
    "dados = [1, 2, 3]\n",
    "\n",
    "# Teste com *\n",
    "resultado = soma(*dados)  # Equivale a soma(1, 2, 3)\n",
    "print(resultado)  # Saída: 6"
   ]
  },
  {
   "cell_type": "code",
   "execution_count": 22,
   "id": "338fa954",
   "metadata": {},
   "outputs": [
    {
     "name": "stdout",
     "output_type": "stream",
     "text": [
      "Olá mundo !\n"
     ]
    }
   ],
   "source": [
    "# Outro exemplo: Imprimir itens\n",
    "lista = [\"Olá\", \"mundo\", \"!\"]\n",
    "print(*lista)  # Saída: Olá mundo !"
   ]
  },
  {
   "cell_type": "code",
   "execution_count": 23,
   "id": "732d8529",
   "metadata": {},
   "outputs": [
    {
     "name": "stdout",
     "output_type": "stream",
     "text": [
      "Olá, nome! Você tem idade anos.\n"
     ]
    }
   ],
   "source": [
    "# Defina uma função simples\n",
    "def saudacao(nome, idade):\n",
    "    return f\"Olá, {nome}! Você tem {idade} anos.\"\n",
    "\n",
    "# Dicionário de dados\n",
    "dados = {\"nome\": \"João\", \"idade\": 25}\n",
    "\n",
    "# Teste com **\n",
    "mensagem = saudacao(*dados)  # Equivale a saudacao(nome=\"João\", idade=25)\n",
    "print(mensagem)  # Saída: Olá, João! Você tem 25 anos."
   ]
  },
  {
   "cell_type": "code",
   "execution_count": 24,
   "id": "471430ad",
   "metadata": {},
   "outputs": [
    {
     "name": "stdout",
     "output_type": "stream",
     "text": [
      "{'nome': 'João', 'idade': 25, 'cidade': 'São Paulo', 'profissao': 'Desenvolvedor', 'hobby': 'Futebol'}\n",
      "{'nome': 'João', 'idade': 25, 'cidade': 'São Paulo', 'profissao': 'Desenvolvedor', 'hobby': 'Futebol'}\n",
      "nome idade cidade profissao hobby\n"
     ]
    }
   ],
   "source": [
    "# Dicionário de exemplo\n",
    "dados = {\n",
    "    \"nome\": \"João\",\n",
    "    \"idade\": 25,\n",
    "    \"cidade\": \"São Paulo\",\n",
    "    \"profissao\": \"Desenvolvedor\",\n",
    "    \"hobby\": \"Futebol\"\n",
    "}\n",
    "\n",
    "# Teste com ** (desempacota chave-valor)\n",
    "def perfil(**kwargs):\n",
    "    return kwargs\n",
    "\n",
    "print(dados)\n",
    "\n",
    "print(perfil(**dados))  # Saída: Perfil: {'nome': 'João', 'idade': 25, ...}\n",
    "\n",
    "# Teste com * (desempacota apenas chaves)\n",
    "print(*dados)  # Saída: nome idade cidade profissao hobby"
   ]
  },
  {
   "cell_type": "code",
   "execution_count": 25,
   "id": "21910f5d",
   "metadata": {},
   "outputs": [
    {
     "name": "stdout",
     "output_type": "stream",
     "text": [
      "{'nome': 'João', 'idade': 25}\n",
      "Perfil processado: {'nome': 'João', 'idade': 25}\n"
     ]
    }
   ],
   "source": [
    "def perfil(**kwargs):\n",
    "    # Modifique para ver a diferença\n",
    "    return f\"Perfil processado: {kwargs}\"  # Agora retorna uma string\n",
    "\n",
    "dados = {\"nome\": \"João\", \"idade\": 25}\n",
    "\n",
    "print(dados)  # Saída: {'nome': 'João', 'idade': 25}\n",
    "\n",
    "print(perfil(**dados))  # Saída: Perfil processado: {'nome': 'João', 'idade': 25}"
   ]
  },
  {
   "cell_type": "code",
   "execution_count": 26,
   "id": "ba9f8dd3",
   "metadata": {},
   "outputs": [
    {
     "name": "stdout",
     "output_type": "stream",
     "text": [
      "nome João\n",
      "idade 25\n"
     ]
    },
    {
     "data": {
      "text/plain": [
       "{'nome': 'João', 'idade': 25}"
      ]
     },
     "execution_count": 26,
     "metadata": {},
     "output_type": "execute_result"
    }
   ],
   "source": [
    "# O que ** faz internamente (simplificado)\n",
    "kwargs_expanded = {}\n",
    "for key, value in dados.items():\n",
    "    print(key, value)\n",
    "    kwargs_expanded[key] = value\n",
    "# Então chama perfil com esses kwargs\n",
    "perfil(**kwargs_expanded)  # Equivale a perfil(nome=\"João\", ...)\n",
    "kwargs_expanded"
   ]
  },
  {
   "cell_type": "code",
   "execution_count": 30,
   "id": "0718e03e",
   "metadata": {},
   "outputs": [
    {
     "name": "stdout",
     "output_type": "stream",
     "text": [
      "<__main__.LoginNormal object at 0x0000019E8C04A270>\n",
      "username='user' password='pass'\n"
     ]
    }
   ],
   "source": [
    "# Sem Pydantic (classe normal)\n",
    "class LoginNormal:\n",
    "    def __init__(self, username, password):\n",
    "        self.username = username\n",
    "        self.password = password\n",
    "\n",
    "dados = {\"username\": \"user\", \"password\": \"pass\"}\n",
    "login = LoginNormal(**dados)  # Funciona: unpacking\n",
    "# login = LoginNormal(dados)  # Erro: não aceita dict\n",
    "print(login)\n",
    "# Com Pydantic\n",
    "from pydantic import BaseModel\n",
    "\n",
    "class LoginPayload(BaseModel):\n",
    "    username: str\n",
    "    password: str\n",
    "\n",
    "payload = LoginPayload(**dados)  # Funciona e valida\n",
    "# payload = LoginPayload(dados)  # Erro: Pydantic não aceita dict posicional\n",
    "print(payload)"
   ]
  },
  {
   "cell_type": "code",
   "execution_count": 35,
   "id": "6935b4c8",
   "metadata": {},
   "outputs": [
    {
     "name": "stdout",
     "output_type": "stream",
     "text": [
      "[2, 3, 4, 5]\n",
      "2 3 4 5\n"
     ]
    }
   ],
   "source": [
    "lista = [2,3,4,5]\n",
    "\n",
    "print(lista)\n",
    "print(*lista)"
   ]
  },
  {
   "cell_type": "code",
   "execution_count": 39,
   "id": "fb4c19d9",
   "metadata": {},
   "outputs": [
    {
     "name": "stdout",
     "output_type": "stream",
     "text": [
      "{'a': 2, 'b': 3}\n"
     ]
    }
   ],
   "source": [
    "dados = {\"a\": 2, \"b\": 3}\n",
    "\n",
    "def mostrar(**kwargs):\n",
    "    print(kwargs)\n",
    "\n",
    "mostrar(**dados)  "
   ]
  }
 ],
 "metadata": {
  "kernelspec": {
   "display_name": "venv",
   "language": "python",
   "name": "python3"
  },
  "language_info": {
   "codemirror_mode": {
    "name": "ipython",
    "version": 3
   },
   "file_extension": ".py",
   "mimetype": "text/x-python",
   "name": "python",
   "nbconvert_exporter": "python",
   "pygments_lexer": "ipython3",
   "version": "3.13.5"
  }
 },
 "nbformat": 4,
 "nbformat_minor": 5
}
